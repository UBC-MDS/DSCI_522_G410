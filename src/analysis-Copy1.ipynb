{
 "cells": [
  {
   "cell_type": "code",
   "execution_count": 1,
   "metadata": {},
   "outputs": [],
   "source": [
    "import numpy as np\n",
    "import pandas as pd\n",
    "import altair as alt\n",
    "\n",
    "from sklearn.preprocessing import StandardScaler\n",
    "from sklearn.model_selection import train_test_split\n",
    "from sklearn.linear_model import LogisticRegression\n",
    "from sklearn.compose import ColumnTransformer\n",
    "from sklearn.preprocessing import OneHotEncoder\n",
    "from sklearn.pipeline import Pipeline"
   ]
  },
  {
   "cell_type": "code",
   "execution_count": 8,
   "metadata": {},
   "outputs": [
    {
     "data": {
      "text/plain": [
       "<9521x10054 sparse matrix of type '<class 'numpy.float64'>'\n",
       "\twith 478359 stored elements in Compressed Sparse Row format>"
      ]
     },
     "execution_count": 8,
     "metadata": {},
     "output_type": "execute_result"
    }
   ],
   "source": [
    "\n",
    "#Loading clean data set\n",
    "fifa_data = pd.read_csv(\"../data/cleaned/cleaned_data.csv\", index_col=0)\n",
    "\n",
    "X = fifa_data.drop(columns='Wage')\n",
    "y = fifa_data[['Wage']]\n",
    "#Identifying the categorical and numeric columns\n",
    "def get_preprocessing_features(x):\n",
    "    \"\"\" Retrieves a list of categorical and numerical\n",
    "    features using fifa train data set (X) \n",
    "    using data type. \n",
    "\n",
    "    Parameters\n",
    "    ----------\n",
    "    x : DateFrame\n",
    "        Fifa Training data.\n",
    "\n",
    "    Returns\n",
    "    -------\n",
    "    categorical and numerical features: tuple\n",
    "\n",
    "    \"\"\"\n",
    "    d_types = x.dtypes\n",
    "    categorical = []\n",
    "    numerical = []\n",
    "    for data_type, features in zip(d_types, d_types.index):\n",
    "        if data_type == \"object\":\n",
    "            categorical.append(features)\n",
    "        else:\n",
    "            numerical.append(features)\n",
    "\n",
    "    return categorical, numerical\n",
    "\n",
    "#Setting-up data transformer\n",
    "categorical, numerical = get_preprocessing_features(X)\n",
    "\n",
    "preprocessor = ColumnTransformer(\n",
    "    transformers=[\n",
    "        ('scale', StandardScaler(), numerical),\n",
    "        ('ohe', OneHotEncoder(drop=\"first\"), categorical)])\n",
    "\n",
    "# Splitting data into training and testing sets\n",
    "\n",
    "X_train, X_test, y_train, y_test = train_test_split(X,\n",
    "                                                    y,\n",
    "                                                    test_size=0.2,\n",
    "                                                    random_state=123)\n",
    "\n",
    "X_train_processed = preprocessor.fit_transform(X_train)\n",
    "X_train_processed\n",
    "\n",
    "# Apply data transformations and convert to dataframe\n",
    "#X_train = pd.DataFrame(preprocessor.fit_transform(X_train),\n",
    "#                       index=X_train.index,\n",
    "#                       columns=(numerical +\n",
    "#                                list(preprocessor.named_transformers_['ohe']\n",
    "#                                     .get_feature_names(categorical))))\n",
    "#X_test = pd.DataFrame(preprocessor.transform(X_test),\n",
    "#                      index=X_test.index,\n",
    "#                      columns=X_train.columns)"
   ]
  },
  {
   "cell_type": "code",
   "execution_count": null,
   "metadata": {},
   "outputs": [],
   "source": []
  },
  {
   "cell_type": "code",
   "execution_count": 5,
   "metadata": {},
   "outputs": [],
   "source": [
    "#Fitting Logistic Regression\n",
    "\n",
    "lgr = LogisticRegression(solver='lbfgs')\n",
    "lgr.fit(X_train, y_train);"
   ]
  },
  {
   "cell_type": "code",
   "execution_count": null,
   "metadata": {},
   "outputs": [],
   "source": [
    "\n",
    "# Most important features\n",
    "features = X_train.columns  # Get the feature labels from the training data\n",
    "coefs = abs(lgr.coef_.flatten())  # Get the absolute value of the coefficients\n",
    "\n",
    "# Order the coefficients in descending order\n",
    "coefs_ordered = np.argsort(-coefs)\n",
    "\n",
    "# Retrieve the top 5 and store in a list\n",
    "top5 = list(features[coefs_ordered][:5])\n",
    "print(f\"The top 5 features are: {top5}\")"
   ]
  }
 ],
 "metadata": {
  "kernelspec": {
   "display_name": "Python 3",
   "language": "python",
   "name": "python3"
  },
  "language_info": {
   "codemirror_mode": {
    "name": "ipython",
    "version": 3
   },
   "file_extension": ".py",
   "mimetype": "text/x-python",
   "name": "python",
   "nbconvert_exporter": "python",
   "pygments_lexer": "ipython3",
   "version": "3.7.4"
  }
 },
 "nbformat": 4,
 "nbformat_minor": 4
}
