{
 "cells": [
  {
   "cell_type": "code",
   "execution_count": null,
   "metadata": {},
   "outputs": [],
   "source": [
    "import numpy as np\n",
    "import pandas as pd\n",
    "import altair as alt\n",
    "# alt.data_transformers.disable_max_rows()\n",
    "from sklearn.model_selection import train_test_split\n",
    "import matplotlib.pyplot as plt\n",
    "import seaborn as sns\n",
    "\n",
    "from altair import pipe, limit_rows, to_values\n",
    "t = lambda data: pipe(data, limit_rows(max_rows=20000), to_values)\n",
    "alt.data_transformers.register('custom', t)\n",
    "alt.data_transformers.enable('custom')"
   ]
  },
  {
   "cell_type": "code",
   "execution_count": null,
   "metadata": {},
   "outputs": [],
   "source": [
    "data1 = pd.read_csv('src/data_fifa.csv', index_col = 0)\n",
    "data1.head()"
   ]
  },
  {
   "cell_type": "code",
   "execution_count": null,
   "metadata": {},
   "outputs": [],
   "source": [
    "X = data1.drop(columns = ['Wage'])\n",
    "y = data1['Wage']"
   ]
  },
  {
   "cell_type": "markdown",
   "metadata": {},
   "source": [
    "Splitting data set into train and test in order to test better. "
   ]
  },
  {
   "cell_type": "code",
   "execution_count": null,
   "metadata": {},
   "outputs": [],
   "source": [
    "X_train, X_test, y_train, y_test = train_test_split(X, y, test_size=0.20, random_state=42)\n",
    "df = pd.concat([X_train, y_train], axis=1)"
   ]
  },
  {
   "cell_type": "markdown",
   "metadata": {},
   "source": [
    "Dropping unrelated columns. These columns have no effect or negligible effect on target column."
   ]
  },
  {
   "cell_type": "code",
   "execution_count": null,
   "metadata": {},
   "outputs": [],
   "source": [
    "df = df.drop(columns = ['ID', 'Photo', 'Flag', 'Club Logo', 'Loaned From','Joined', 'Contract Valid Until'])\n",
    "df.head()"
   ]
  },
  {
   "cell_type": "code",
   "execution_count": null,
   "metadata": {},
   "outputs": [],
   "source": [
    "df.info()"
   ]
  },
  {
   "cell_type": "markdown",
   "metadata": {},
   "source": [
    "There are 14565 rows in the data and around 3K NA values. So we can drop NAN rows to get better visualizations."
   ]
  },
  {
   "cell_type": "code",
   "execution_count": null,
   "metadata": {},
   "outputs": [],
   "source": [
    "df = df.dropna()"
   ]
  },
  {
   "cell_type": "markdown",
   "metadata": {},
   "source": [
    "Columns `Wage`, `Value` and `Release Clause` have currency values that are hard to visualize. I will convert those columns just numbers in 1000 (K). "
   ]
  },
  {
   "cell_type": "code",
   "execution_count": null,
   "metadata": {},
   "outputs": [],
   "source": [
    "df['Wage'] = df['Wage'].replace({'K': '', 'M': '*1e3', '€' : \"\"}, regex=True).map(pd.eval).astype(int)\n",
    "df['Value'] = df['Value'].replace({'K': '', 'M': '*1e3', '€' : \"\"}, regex=True).map(pd.eval).astype(int)\n",
    "df['Release Clause'] = df['Release Clause'].replace({'K': '', 'M': '*1e3', '€' : \"\"}, regex=True).map(pd.eval).astype(int)"
   ]
  },
  {
   "cell_type": "markdown",
   "metadata": {},
   "source": [
    "Attribute `Height` and `Weight` can be merged into one attribute called `BMI` aka body mass index. And remove original `Height` and `Weight` columns."
   ]
  },
  {
   "cell_type": "code",
   "execution_count": null,
   "metadata": {},
   "outputs": [],
   "source": [
    "def convert_heigt_inches(height_str):\n",
    "    height = height_str.split(\"'\")\n",
    "    return int(height[0]) * 12 + int(height[1])\n",
    "\n",
    "df['Height_Inches'] = df['Height'].apply(convert_heigt_inches).astype(int)\n",
    "df['Weight_Pounds'] = df['Weight'].replace({'lbs': ''}, regex=True).astype(int)\n",
    "df['BMI'] = (df['Weight_Pounds']/df['Height_Inches']**2)*703\n",
    "df = df.drop(columns = ['Height_Inches', 'Weight_Pounds', 'Weight', 'Height'])\n",
    "df['BMI'].head()"
   ]
  },
  {
   "cell_type": "markdown",
   "metadata": {},
   "source": [
    "Club attribute can be converted to numeric score like `Club_Value`, `Club_Wage`, `Club_Overall` and `Club_Potential` to relate with players wages."
   ]
  },
  {
   "cell_type": "code",
   "execution_count": null,
   "metadata": {},
   "outputs": [],
   "source": [
    "def get_club_stat(x, df, name):\n",
    "    return df[df['Club'] == x][name].values[0]\n",
    "\n",
    "club_df = df.groupby(['Club'])['Value'].agg('sum').reset_index()\n",
    "df['Club_Value'] = df['Club'].apply(lambda x: get_club_stat(x, club_df, 'Value'))\n",
    "\n",
    "club_df = df.groupby(['Club'])['Wage'].agg('sum').reset_index()\n",
    "df['Club_Wage'] = df['Club'].apply(lambda x: get_club_stat(x, club_df, 'Wage'))\n",
    "\n",
    "club_df = df.groupby(['Club'])['Overall'].agg('mean').reset_index()\n",
    "df['Club_Overall'] = df['Club'].apply(lambda x: get_club_stat(x, club_df, 'Overall'))\n",
    "\n",
    "club_df = df.groupby(['Club'])['Potential'].agg('mean').reset_index()\n",
    "df['Club_Potential'] = df['Club'].apply(lambda x: get_club_stat(x, club_df, 'Potential'))\n",
    "\n",
    "club_info = df.drop_duplicates('Club')[['Club', 'Club_Value', 'Club_Wage', 'Club_Overall', 'Club_Potential']].reset_index().drop(columns = ['index'])"
   ]
  },
  {
   "cell_type": "markdown",
   "metadata": {},
   "source": [
    "Most richest 5 clubs: "
   ]
  },
  {
   "cell_type": "code",
   "execution_count": null,
   "metadata": {},
   "outputs": [],
   "source": [
    "club_info.nlargest(5, 'Club_Wage')"
   ]
  },
  {
   "cell_type": "markdown",
   "metadata": {},
   "source": [
    "We can look at the correlation matrix to see which features have a high correlation with the wage. These features will be valuable to use for our analysis."
   ]
  },
  {
   "cell_type": "code",
   "execution_count": null,
   "metadata": {},
   "outputs": [],
   "source": [
    "c = df.corr().abs()\n",
    "c.nlargest(20, 'Wage')['Wage']"
   ]
  },
  {
   "cell_type": "markdown",
   "metadata": {},
   "source": [
    "The `Club` information like `Club_Value`, `Club_Wage`, `Club_Overall`, `Club_Potential` will be good to analyse and also some skill set of the players such as `Reaction`, `Composure`, `BallControl`, `ShortPassing` and also `Drippling` are some important features to use.\n",
    "\n",
    "We also need to be aware of that there might be some other features highly related with the wage, but not having highly positive and negative correlations such as `Age` and `BMI`."
   ]
  },
  {
   "cell_type": "code",
   "execution_count": null,
   "metadata": {},
   "outputs": [],
   "source": [
    "p_age = alt.Chart(df).mark_bar().encode(\n",
    "            alt.X(\"Age\",  bin=alt.Bin(maxbins=30)),\n",
    "            y='count()',\n",
    "            ).properties( \n",
    "                        width = 300, \n",
    "                        height = 200, \n",
    "                        title= 'Distribution of Age')\n",
    "p_overall = alt.Chart(df).mark_bar().encode(\n",
    "                alt.X(\"Overall\", bin = True),\n",
    "                y='count()',\n",
    "                ).properties( \n",
    "                        width = 300, \n",
    "                        height = 200, \n",
    "                        title= 'Distribution of overall score')\n",
    "p_age | p_overall"
   ]
  },
  {
   "cell_type": "markdown",
   "metadata": {},
   "source": [
    "The the distribution of `Age` shows that the players are generally between the age 20 and 35. When we look at the overall ratings, there are only a few players having greater than 90, the general overall rating is around 65-70.\n",
    "\n",
    "We can also look at the relationship between `Age` and `Wage` as well as `Overall` and `Wage`."
   ]
  },
  {
   "cell_type": "code",
   "execution_count": null,
   "metadata": {},
   "outputs": [],
   "source": [
    "p1 = alt.Chart(df).mark_point().encode(\n",
    "        x=alt.X('Age', title='Age of the player'),\n",
    "        y=alt.Y('Wage', title='Wage(in K)')\n",
    "            ).properties(width = 400, \n",
    "                     height = 300, \n",
    "                     title= 'The relationship between Age and Salary')\n",
    "p2 = alt.Chart(df).mark_point().encode(\n",
    "        x=alt.X('Overall', title='Overall rating of the player'),\n",
    "        y=alt.Y('Wage', title='Wage(in K)')\n",
    "            ).properties(width = 400, \n",
    "                     height = 300, \n",
    "                     title= 'The relationship between Overall and Salary')\n",
    "p1 | p2"
   ]
  },
  {
   "cell_type": "markdown",
   "metadata": {},
   "source": [
    "The first plot shows that the players of the age between 20 and 30 earning the most and after the age of 35 the wage drastically drops. The second plot suggests that there are high number of players having overall rating between 70-80 and the players with rating higher than 85 have very high salaries. "
   ]
  },
  {
   "cell_type": "code",
   "execution_count": null,
   "metadata": {},
   "outputs": [],
   "source": [
    "#alt.Chart(data1).mark_bar().encode(\n",
    "#    alt.Y(\"Nationality\", sort = '-x'),\n",
    "#    x='count()',\n",
    "#    ).properties(\n",
    "#    title= 'Distribution of Nationality')"
   ]
  },
  {
   "cell_type": "markdown",
   "metadata": {},
   "source": [
    "Looking at the distribution of the `Wage` will also be important to understand the dataset. "
   ]
  },
  {
   "cell_type": "code",
   "execution_count": null,
   "metadata": {},
   "outputs": [],
   "source": [
    "plt.hist(df.Wage, bins = 80)\n",
    "# set x-axis label and specific size\n",
    "plt.xlabel('Wage(in K)',size=16)\n",
    "# set y-axis label and specific size\n",
    "plt.ylabel('Number of players',size=16)\n",
    "# set plot title with specific size\n",
    "plt.title('The distribution of wage',size=16)"
   ]
  },
  {
   "cell_type": "markdown",
   "metadata": {},
   "source": [
    "So, we see that the distribution of the salary is higly skewed and there some outliers. We can also explore the information about these outliers.."
   ]
  },
  {
   "cell_type": "code",
   "execution_count": null,
   "metadata": {},
   "outputs": [],
   "source": [
    "df_outliers = df.nlargest(8, 'Wage')\n",
    "df_outliers"
   ]
  },
  {
   "cell_type": "code",
   "execution_count": null,
   "metadata": {},
   "outputs": [],
   "source": [
    "club_info.nlargest(5, 'Club_Wage')"
   ]
  },
  {
   "cell_type": "code",
   "execution_count": null,
   "metadata": {},
   "outputs": [],
   "source": [
    "some_clubs = ('FC Barcelona', 'Real Madrid', 'Arsenal', 'Manchester City', 'Juventus')\n",
    "df_club = df.loc[df['Club'].isin(some_clubs) & df['Wage']]\n",
    "\n",
    "fig, ax = plt.subplots()\n",
    "fig.set_size_inches(20, 10)\n",
    "ax = sns.boxplot(x=\"Club\", y=\"Wage\", data=df_club);\n",
    "ax.set_title(label='Distribution of wage in most richest clubs', fontsize=20);"
   ]
  },
  {
   "cell_type": "markdown",
   "metadata": {},
   "source": [
    "The `Club` information is one of the most important attributes affecting the `Wage`, however, some clubs like Real Madrid have a high variance on wage. Therefore, we need to take other attributes into consideration.\n",
    "\n",
    "This is not only true for rich clubs but also for any random subset of clubs. "
   ]
  },
  {
   "cell_type": "code",
   "execution_count": null,
   "metadata": {},
   "outputs": [],
   "source": [
    "random_clubs = tuple(df['Club'].sample(n=5, random_state= 20))\n",
    "df_club = df.loc[df['Club'].isin(random_clubs) & df['Wage']]\n",
    "\n",
    "fig, ax = plt.subplots()\n",
    "fig.set_size_inches(20, 10)\n",
    "ax = sns.boxplot(x=\"Club\", y=\"Wage\", data=df_club);\n",
    "ax.set_title(label='Distribution of wage in  clubs', fontsize=20);"
   ]
  }
 ],
 "metadata": {
  "kernelspec": {
   "display_name": "Python 3",
   "language": "python",
   "name": "python3"
  },
  "language_info": {
   "codemirror_mode": {
    "name": "ipython",
    "version": 3
   },
   "file_extension": ".py",
   "mimetype": "text/x-python",
   "name": "python",
   "nbconvert_exporter": "python",
   "pygments_lexer": "ipython3",
   "version": "3.7.1"
  }
 },
 "nbformat": 4,
 "nbformat_minor": 4
}
